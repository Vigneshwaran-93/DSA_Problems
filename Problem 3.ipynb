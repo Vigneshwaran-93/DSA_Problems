{
 "cells": [
  {
   "cell_type": "markdown",
   "id": "f982901d",
   "metadata": {},
   "source": [
    "### Problem Statement \n",
    "Santhosh works in a tech company which is N meters away from his house. He has two options, either to take the office cab or to walk to his office. If he decides to walk, he takes a different route and he walks with a velocity of V1 m/s.  The cab on the other hand moves with a velocity V2 ​m/s. Whenever a cab is called, it always starts from the office and goes to Santhosh’s house where it collects Santhosh (collecting takes no time), and makes its way back to the office with Santhosh in it. \n",
    "\n",
    "The cab covers a total distance equal to N meters when going from Santhosh’s house to the office or vice versa, while the length of the walking route is N*√2  because of the type of the roads.\n",
    "\n",
    "Santhosh has enlisted your help to decide whether he should use a cab or should he walk to minimize his travel time. Can you help him out?"
   ]
  },
  {
   "cell_type": "markdown",
   "id": "87511ddc",
   "metadata": {},
   "source": [
    "### Solution "
   ]
  },
  {
   "cell_type": "code",
   "execution_count": 2,
   "id": "716134f4",
   "metadata": {},
   "outputs": [
    {
     "name": "stdout",
     "output_type": "stream",
     "text": [
      "1000\n",
      "1\n",
      "10\n",
      "It's faster to take the cab.\n"
     ]
    }
   ],
   "source": [
    "import math\n",
    "\n",
    "N=int(input()) #office distance \n",
    "# velocity of Santhosh when walking in m/s\n",
    "V1 = int(input()) \n",
    "\n",
    "# velocity of the cab in m/s\n",
    "V2 = int(input()) \n",
    "\n",
    "# time taken to walk\n",
    "t_walk = (N * math.sqrt(2)) / V1\n",
    "\n",
    "# time taken by cab \n",
    "t_cab1 = N / V2\n",
    "\n",
    "# time taken by cab from home to office \n",
    "t_cab2 = (2 * N) / V2\n",
    "\n",
    "# total time taken by cab\n",
    "t_cab = t_cab1 + t_cab2\n",
    "\n",
    "if t_walk < t_cab:\n",
    "    print(\"It's faster to walk.\")\n",
    "else:\n",
    "    print(\"It's faster to take the cab.\")\n"
   ]
  },
  {
   "cell_type": "code",
   "execution_count": null,
   "id": "fa677530",
   "metadata": {},
   "outputs": [],
   "source": []
  }
 ],
 "metadata": {
  "kernelspec": {
   "display_name": "Python 3 (ipykernel)",
   "language": "python",
   "name": "python3"
  },
  "language_info": {
   "codemirror_mode": {
    "name": "ipython",
    "version": 3
   },
   "file_extension": ".py",
   "mimetype": "text/x-python",
   "name": "python",
   "nbconvert_exporter": "python",
   "pygments_lexer": "ipython3",
   "version": "3.10.5"
  }
 },
 "nbformat": 4,
 "nbformat_minor": 5
}
