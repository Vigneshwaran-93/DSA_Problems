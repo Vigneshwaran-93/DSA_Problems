{
 "cells": [
  {
   "cell_type": "markdown",
   "id": "c7bcf3b1",
   "metadata": {},
   "source": [
    "### Problem Statement \n",
    "\n",
    "You are given a string of length N. You have to check among all the substrings that whether a substring exists or not which is palindrome and having length greater than 1. If such a substring exists then print YES else print NO.\n",
    "\n",
    " \n",
    "\n",
    "Input\n",
    "\n",
    "The first line contains a single integer T, the number of test cases. Each test case is described by a single line containing a string.\n",
    "\n",
    " \n",
    "\n",
    "Output\n",
    "\n",
    "For each test case, output a single line containing the YES or NO.\n",
    "\n",
    " \n",
    "\n",
    "Example\n",
    "\n",
    "Input:\n",
    "\n",
    "2\n",
    "\n",
    "ab\n",
    "\n",
    "babba\n",
    "\n",
    " \n",
    "\n",
    "Output:\n",
    "\n",
    "NO\n",
    "\n",
    "YES\n",
    "\n"
   ]
  },
  {
   "cell_type": "markdown",
   "id": "63f6fe66",
   "metadata": {},
   "source": [
    "### Solution \n"
   ]
  },
  {
   "cell_type": "code",
   "execution_count": 1,
   "id": "76a0a763",
   "metadata": {},
   "outputs": [
    {
     "name": "stdout",
     "output_type": "stream",
     "text": [
      "2\n",
      "ab\n",
      "NO\n",
      "babba\n",
      "YES\n"
     ]
    }
   ],
   "source": [
    "def is_palindrome(s):\n",
    "    return s == s[::-1]\n",
    "\n",
    "t = int(input())\n",
    "for _ in range(t):\n",
    "    s = input()\n",
    "    found = False\n",
    "    for i in range(len(s)):\n",
    "        for j in range(i+2, len(s)+1):\n",
    "            if is_palindrome(s[i:j]):\n",
    "                found = True\n",
    "                break\n",
    "        if found:\n",
    "            break\n",
    "    if found:\n",
    "        print(\"YES\")\n",
    "    else:\n",
    "        print(\"NO\")"
   ]
  },
  {
   "cell_type": "code",
   "execution_count": null,
   "id": "0cddb099",
   "metadata": {},
   "outputs": [],
   "source": []
  }
 ],
 "metadata": {
  "kernelspec": {
   "display_name": "Python 3 (ipykernel)",
   "language": "python",
   "name": "python3"
  },
  "language_info": {
   "codemirror_mode": {
    "name": "ipython",
    "version": 3
   },
   "file_extension": ".py",
   "mimetype": "text/x-python",
   "name": "python",
   "nbconvert_exporter": "python",
   "pygments_lexer": "ipython3",
   "version": "3.10.5"
  }
 },
 "nbformat": 4,
 "nbformat_minor": 5
}
