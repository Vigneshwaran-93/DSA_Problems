{
 "cells": [
  {
   "cell_type": "markdown",
   "id": "3f33ec3b",
   "metadata": {},
   "source": [
    "### Problem Statement \n",
    "Given a string containing uppercase characters (A-Z),  find the repetition of character and  replace it  by storing the length of that character occured consequently and the character itself.\n",
    "\n",
    "Perform the run length encoding for a given String and return the run length encoded String.\n",
    "\n",
    "sample input :\n",
    "\n",
    "AAAABBBBCCCCCCCC\n",
    "\n",
    "sample output :\n",
    "\n",
    "4A4B8C\n",
    "\n",
    "sample input :\n",
    "\n",
    "AABCCA         \n",
    "\n",
    "sample output :\n",
    "\n",
    "2A1B2C1A"
   ]
  },
  {
   "cell_type": "markdown",
   "id": "66d1e3c0",
   "metadata": {},
   "source": [
    "### Solution"
   ]
  },
  {
   "cell_type": "code",
   "execution_count": 1,
   "id": "497bc482",
   "metadata": {},
   "outputs": [
    {
     "name": "stdout",
     "output_type": "stream",
     "text": [
      "AAAABBBBCCCCCCCC\n",
      "4A4B8C\n"
     ]
    }
   ],
   "source": [
    "# your code goes here\n",
    "n=input()\n",
    "\n",
    "ans=''\n",
    "ct=0\n",
    "for i in range(len(n)-1):\n",
    "    if n[i]==n[i+1] and n.count(n[i])>1:\n",
    "        ct+=1\n",
    "    elif n.count(n[i])==1:\n",
    "        ans+=\"1\"\n",
    "        ans+=n[i]\n",
    "    else :\n",
    "        ct+=1\n",
    "        ans+=str(ct)\n",
    "        ans+=n[i]\n",
    "        ct=0\n",
    "     \n",
    "ct+=1\n",
    "ans+=str(ct)\n",
    "ans+=n[-1]\n",
    "        \n",
    "print(ans)\n"
   ]
  },
  {
   "cell_type": "code",
   "execution_count": null,
   "id": "ff86226d",
   "metadata": {},
   "outputs": [],
   "source": [
    " "
   ]
  }
 ],
 "metadata": {
  "kernelspec": {
   "display_name": "Python 3 (ipykernel)",
   "language": "python",
   "name": "python3"
  },
  "language_info": {
   "codemirror_mode": {
    "name": "ipython",
    "version": 3
   },
   "file_extension": ".py",
   "mimetype": "text/x-python",
   "name": "python",
   "nbconvert_exporter": "python",
   "pygments_lexer": "ipython3",
   "version": "3.10.5"
  }
 },
 "nbformat": 4,
 "nbformat_minor": 5
}
