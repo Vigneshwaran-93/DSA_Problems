{
 "cells": [
  {
   "cell_type": "markdown",
   "id": "3f33ec3b",
   "metadata": {},
   "source": [
    "### Problem Statement \n",
    "Ram loves bit magic. He is given a set of integers, and wants to sort them based on the number of 1s in their binary representations ( in descending order). Help Ram do a little bit of bit magic!\n",
    "\n",
    "input\n",
    "\n",
    "Description: Number of elements followed by the elements\n",
    "\n",
    "output\n",
    "\n",
    "Description: Sorted list of numbers"
   ]
  },
  {
   "cell_type": "markdown",
   "id": "66d1e3c0",
   "metadata": {},
   "source": [
    "### Solution"
   ]
  },
  {
   "cell_type": "code",
   "execution_count": 2,
   "id": "497bc482",
   "metadata": {},
   "outputs": [
    {
     "name": "stdout",
     "output_type": "stream",
     "text": [
      "6\n",
      "1 2 3 4 5 6\n",
      "3 5 6 1 2 4\n"
     ]
    }
   ],
   "source": [
    "def count_set_bits(num):\n",
    "    count = 0\n",
    "    while num:\n",
    "        count += num & 1\n",
    "        num >>= 1\n",
    "    return count\n",
    "\n",
    "# function to sort list based on number of set bits in binary representation\n",
    "def sort_by_set_bits(lst):\n",
    "    return sorted(lst, key=lambda x: count_set_bits(x), reverse=True)\n",
    "\n",
    "# main program\n",
    "n = int(input())\n",
    "lst = list(map(int, input().split()))\n",
    "\n",
    "sorted_lst = sort_by_set_bits(lst)\n",
    "print(*sorted_lst)\n"
   ]
  },
  {
   "cell_type": "code",
   "execution_count": null,
   "id": "ff86226d",
   "metadata": {},
   "outputs": [],
   "source": [
    " "
   ]
  }
 ],
 "metadata": {
  "kernelspec": {
   "display_name": "Python 3 (ipykernel)",
   "language": "python",
   "name": "python3"
  },
  "language_info": {
   "codemirror_mode": {
    "name": "ipython",
    "version": 3
   },
   "file_extension": ".py",
   "mimetype": "text/x-python",
   "name": "python",
   "nbconvert_exporter": "python",
   "pygments_lexer": "ipython3",
   "version": "3.10.5"
  }
 },
 "nbformat": 4,
 "nbformat_minor": 5
}
