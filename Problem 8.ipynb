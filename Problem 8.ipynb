{
 "cells": [
  {
   "cell_type": "markdown",
   "id": "c7bcf3b1",
   "metadata": {},
   "source": [
    "### Problem Statement \n",
    "\n",
    "Given a Binary Search Tree, find the sum of all leaf nodes. BST has the following property (duplicate nodes are possible):\n",
    "\n",
    "The left subtree of a node contains only nodes with keys less than the node’s key.\n",
    "\n",
    "The right subtree of a node contains only nodes with keys greater than or equal to the node’s key.\n",
    "\n",
    "Input Description:\n",
    "The first line consists of integer N, denoting the number of elements in the BST. The second line of each test case consists of N space-separated integers denoting the elements in the BST. where, 1 <= T <= 103 1 <= N <= 105\n",
    "\n",
    "Output Description:\n",
    "print the sum of leaf nodes.\n",
    "\n",
    "Sample Input :\n",
    "6\n",
    "\n",
    "\n",
    "67 34 82 12 45 78\n",
    "\n",
    "Sample Output :\n",
    "\n",
    "135"
   ]
  },
  {
   "cell_type": "markdown",
   "id": "63f6fe66",
   "metadata": {},
   "source": [
    "### Solution \n"
   ]
  },
  {
   "cell_type": "code",
   "execution_count": 1,
   "id": "76a0a763",
   "metadata": {},
   "outputs": [
    {
     "name": "stdout",
     "output_type": "stream",
     "text": [
      "6\n",
      "67 34 82 12 45 78\n",
      "135\n"
     ]
    }
   ],
   "source": [
    "class Node:\n",
    "    def __init__(self, val):\n",
    "        self.val = val\n",
    "        self.left = None\n",
    "        self.right = None\n",
    " \n",
    " \n",
    "def insert(root, key):\n",
    "    if root is None:\n",
    "        return Node(key)\n",
    "    if key < root.val:\n",
    "        root.left = insert(root.left, key)\n",
    "    elif key > root.val:\n",
    "        root.right = insert(root.right, key)\n",
    "    return root\n",
    " \n",
    " \n",
    "def get_leaf_sum(root):\n",
    "    if root is None:\n",
    "        return 0\n",
    "    if root.left is None and root.right is None:\n",
    "        return root.val\n",
    "    return get_leaf_sum(root.left) + get_leaf_sum(root.right)\n",
    " \n",
    " \n",
    "n = int(input())\n",
    "arr = list(map(int, input().split()))\n",
    "root = None\n",
    "for i in range(n):\n",
    "    root = insert(root, arr[i])\n",
    " \n",
    "print(get_leaf_sum(root))"
   ]
  },
  {
   "cell_type": "code",
   "execution_count": null,
   "id": "0cddb099",
   "metadata": {},
   "outputs": [],
   "source": []
  }
 ],
 "metadata": {
  "kernelspec": {
   "display_name": "Python 3 (ipykernel)",
   "language": "python",
   "name": "python3"
  },
  "language_info": {
   "codemirror_mode": {
    "name": "ipython",
    "version": 3
   },
   "file_extension": ".py",
   "mimetype": "text/x-python",
   "name": "python",
   "nbconvert_exporter": "python",
   "pygments_lexer": "ipython3",
   "version": "3.10.5"
  }
 },
 "nbformat": 4,
 "nbformat_minor": 5
}
