{
 "cells": [
  {
   "cell_type": "markdown",
   "id": "c7bcf3b1",
   "metadata": {},
   "source": [
    "### Problem Statement \n",
    "\n",
    "Given a Queue consisting of first n natural numbers (in random order). The task is to check whether the given Queue elements can be arranged in increasing order in another Queue using a stack. The operation allowed are:\n",
    "1. Push and pop elements from the stack\n",
    "2. Pop (Or enqueue) from the given Queue.\n",
    "3. Push (Or Dequeue) in the another Queue.\n",
    "\n",
    " \n",
    "\n",
    "Input Description:\n",
    "The first line consists of integer N. The second line consists of N space-separated integers.\n",
    "\n",
    "Output Description:\n",
    "Print Yes if it can be arranged increasing else print No.\n",
    "\n",
    "Sample Input :\n",
    "\n",
    "5\n",
    "\n",
    "5 1 2 3 4\n",
    "\n",
    "Sample Output :\n",
    "\n",
    "Yes"
   ]
  },
  {
   "cell_type": "markdown",
   "id": "63f6fe66",
   "metadata": {},
   "source": [
    "### Solution \n"
   ]
  },
  {
   "cell_type": "code",
   "execution_count": 1,
   "id": "76a0a763",
   "metadata": {},
   "outputs": [
    {
     "name": "stdout",
     "output_type": "stream",
     "text": [
      "5\n",
      "5 1 2 3 4\n",
      "Yes\n"
     ]
    }
   ],
   "source": [
    "from queue import Queue\n",
    "\n",
    "def check_queue(queue):\n",
    "    n = queue.qsize()\n",
    "    expected = 1\n",
    "    stack = []\n",
    "    new_queue = Queue()\n",
    "    while not queue.empty():\n",
    "        if queue.queue[0] == expected:\n",
    "            queue.get()\n",
    "            expected += 1\n",
    "        elif stack and stack[-1] == expected:\n",
    "            stack.pop()\n",
    "            expected += 1\n",
    "        elif not new_queue.empty() and new_queue.queue[0] == expected:\n",
    "            new_queue.get()\n",
    "            expected += 1\n",
    "        else:\n",
    "            stack.append(queue.get())\n",
    "            if len(stack) > n:\n",
    "                return \"No\"\n",
    "            while not new_queue.empty() and new_queue.queue[0] == stack[-1]:\n",
    "                new_queue.get()\n",
    "                stack.pop()\n",
    "    while stack:\n",
    "        if stack.pop() == expected:\n",
    "            expected += 1\n",
    "        elif not new_queue.empty() and new_queue.queue[0] == expected:\n",
    "            new_queue.get()\n",
    "            expected += 1\n",
    "        else:\n",
    "            new_queue.put(stack.pop())\n",
    "    while not new_queue.empty():\n",
    "        if new_queue.get() != expected:\n",
    "            return \"No\"\n",
    "        expected += 1\n",
    "    return \"Yes\"\n",
    "\n",
    "n = int(input())\n",
    "queue = Queue()\n",
    "for i in input().split():\n",
    "    queue.put(int(i))\n",
    "print(check_queue(queue))\n"
   ]
  },
  {
   "cell_type": "code",
   "execution_count": null,
   "id": "0cddb099",
   "metadata": {},
   "outputs": [],
   "source": []
  }
 ],
 "metadata": {
  "kernelspec": {
   "display_name": "Python 3 (ipykernel)",
   "language": "python",
   "name": "python3"
  },
  "language_info": {
   "codemirror_mode": {
    "name": "ipython",
    "version": 3
   },
   "file_extension": ".py",
   "mimetype": "text/x-python",
   "name": "python",
   "nbconvert_exporter": "python",
   "pygments_lexer": "ipython3",
   "version": "3.10.5"
  }
 },
 "nbformat": 4,
 "nbformat_minor": 5
}
