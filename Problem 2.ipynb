{
 "cells": [
  {
   "cell_type": "markdown",
   "id": "3f33ec3b",
   "metadata": {},
   "source": [
    "### Problem Statement \n",
    "Karthick is a mathematical genius. He wants to solve the followong problem: <br>\n",
    "Given array of N integers A and a number K. During a turn the\n",
    "maximal value over all Atil is chosen, let's call it MAX. Then A[i]\n",
    "= MAX - A[i] is done for every 1<=i<= N. Help Karthick to find out how will\n",
    "the array look like after K turns.\n",
    "<br>Input<br>\n",
    "The numbers N and K are given in the first line of an input. Then N integers are given in the second line which denote the array A.\n",
    "<br>Output<br>\n",
    "Output N numbers on a single line. It should be the array A after K turns.\n",
    "<br>\n",
    "A[i] does not exceed 2 (10^9) by it's absolute value.\n",
    "\n",
    "\n",
    "Example:\n",
    "\n",
    "\n",
    "Input:\n",
    "\n",
    "\n",
    "4 1\n",
    "\n",
    "\n",
    "5 - 1 7 0\n",
    "\n",
    "\n",
    "Output:\n",
    "\n",
    "\n",
    "2 8 0 7"
   ]
  },
  {
   "cell_type": "markdown",
   "id": "66d1e3c0",
   "metadata": {},
   "source": [
    "### Solution"
   ]
  },
  {
   "cell_type": "code",
   "execution_count": 1,
   "id": "497bc482",
   "metadata": {},
   "outputs": [
    {
     "name": "stdout",
     "output_type": "stream",
     "text": [
      "4 1\n",
      "5 -1 7 0\n",
      "2 8 0 7\n"
     ]
    }
   ],
   "source": [
    "temp1=list(map(int, input().split()))\n",
    "n=temp1[0]\n",
    "k=temp1[1]\n",
    "\n",
    "list1=list(map(int, input().split()))\n",
    "\n",
    "for i in range(k):\n",
    "    max_no=max(list1)\n",
    "    list1=[max_no-x for x in list1]\n",
    "print(*list1)"
   ]
  },
  {
   "cell_type": "code",
   "execution_count": null,
   "id": "ff86226d",
   "metadata": {},
   "outputs": [],
   "source": []
  }
 ],
 "metadata": {
  "kernelspec": {
   "display_name": "Python 3 (ipykernel)",
   "language": "python",
   "name": "python3"
  },
  "language_info": {
   "codemirror_mode": {
    "name": "ipython",
    "version": 3
   },
   "file_extension": ".py",
   "mimetype": "text/x-python",
   "name": "python",
   "nbconvert_exporter": "python",
   "pygments_lexer": "ipython3",
   "version": "3.10.5"
  }
 },
 "nbformat": 4,
 "nbformat_minor": 5
}
