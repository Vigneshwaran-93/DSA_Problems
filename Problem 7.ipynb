{
 "cells": [
  {
   "cell_type": "markdown",
   "id": "c7bcf3b1",
   "metadata": {},
   "source": [
    "### Problem Statement \n",
    "\n",
    "It's Yuva's birthday today and she wants to play with big numbers. To make her birthday happening, you need to help her. She has a big positive integer N. Yuva can select any two digits from this number (the digits can be same but their positions should be different) and orders them in any one of the two possible ways. For each of these ways, she creates two digit number from it (might contain leading zeros), after that she will pick a character corresponding to the ASCII value equal to this number, i.e. the number 65 corresponds to 'A' and 66 to 'B' and so on till 90 for 'Z'. Yuva is only interested in finding which of the characters in the range 'A' to 'Z' can posiibly be picked this way. \n",
    "\n",
    " \n",
    "\n",
    "Input:\n",
    "\n",
    "The first line of the input contains an integer T denoting the number of test cases.\n",
    "\n",
    "This first line of the input contains an integer N.\n",
    "\n",
    " \n",
    "\n",
    "Ouput:\n",
    "\n",
    "For each test case, output a string containing characters Yuva can pick in sorted order, if the resulting size of string is zero, you should output a new line.\n",
    "\n",
    " \n",
    "\n",
    "Constraints:\n",
    "\n",
    "1 <= T <= 10\n",
    "\n",
    "1 <= N <= 10^100000\n",
    "\n",
    " \n",
    "\n",
    "Input:\n",
    "\n",
    "4\n",
    "\n",
    "65\n",
    "\n",
    "566\n",
    "\n",
    "11\n",
    "\n",
    "1623455078\n",
    "\n",
    " \n",
    "\n",
    "Output:\n",
    "\n",
    "A\n",
    "\n",
    "AB\n",
    "\n",
    "\n",
    "\n",
    "ACDFGHIJKLNPQRSTUVW\n"
   ]
  },
  {
   "cell_type": "markdown",
   "id": "63f6fe66",
   "metadata": {},
   "source": [
    "### Solution \n"
   ]
  },
  {
   "cell_type": "code",
   "execution_count": 1,
   "id": "76a0a763",
   "metadata": {},
   "outputs": [
    {
     "name": "stdout",
     "output_type": "stream",
     "text": [
      "4\n",
      "65\n",
      "A\n",
      "566\n",
      "AB\n",
      "11\n",
      "\n",
      "\n",
      "1623455078\n",
      "ACDFGHIJKLNPQRSTUVW\n"
     ]
    }
   ],
   "source": [
    "def possible_chars(n):\n",
    "    # Convert the integer to a string to extract its digits\n",
    "    n_str = str(n)\n",
    "    # Initialize a set to hold the characters that can be picked\n",
    "    chars = set()\n",
    "    # Loop through all pairs of digits in the number\n",
    "    for i in range(len(n_str)):\n",
    "        for j in range(i+1, len(n_str)):\n",
    "            # Form the two-digit numbers in both orders\n",
    "            num1 = int(n_str[i] + n_str[j])\n",
    "            num2 = int(n_str[j] + n_str[i])\n",
    "            # Check if either of the numbers correspond to an ASCII character\n",
    "            if num1 >= 65 and num1 <= 90:\n",
    "                chars.add(chr(num1))\n",
    "            if num2 >= 65 and num2 <= 90:\n",
    "                chars.add(chr(num2))\n",
    "    # If no characters can be picked, return a newline\n",
    "    if not chars:\n",
    "        return '\\n'\n",
    "    # Sort the characters and return them as a string\n",
    "    return ''.join(sorted(chars))\n",
    "\n",
    "# Read the number of test cases\n",
    "t = int(input())\n",
    "\n",
    "# Loop through each test case\n",
    "for i in range(t):\n",
    "    n = int(input())\n",
    "    print(possible_chars(n))"
   ]
  },
  {
   "cell_type": "code",
   "execution_count": null,
   "id": "0cddb099",
   "metadata": {},
   "outputs": [],
   "source": []
  }
 ],
 "metadata": {
  "kernelspec": {
   "display_name": "Python 3 (ipykernel)",
   "language": "python",
   "name": "python3"
  },
  "language_info": {
   "codemirror_mode": {
    "name": "ipython",
    "version": 3
   },
   "file_extension": ".py",
   "mimetype": "text/x-python",
   "name": "python",
   "nbconvert_exporter": "python",
   "pygments_lexer": "ipython3",
   "version": "3.10.5"
  }
 },
 "nbformat": 4,
 "nbformat_minor": 5
}
