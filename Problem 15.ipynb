{
 "cells": [
  {
   "cell_type": "markdown",
   "id": "3f33ec3b",
   "metadata": {},
   "source": [
    "### Problem Statement \n",
    "You may have heard of the pie rule before. It states that if two people wish to fairly share a slice of pie, one person should cut the slice in half, and the other person should choose who gets which slice. A and B have many slices of pie, and rather than cutting the slices in half, each individual slice will be eaten by just one person.\n",
    "The way A and B decide who eats each slice is as follows. First, the order in which the pies are to be handed out is decided. There is a special token called the 'decider' token, initially held by B. Until all the pie is handed out, whoever has the decider token will give the next slice of pie to one of the participants, and the decider token to the other participant. They continue until no slices of pie are left.\n",
    "All of the slices are of excellent quality, so each participant obviously wants to maximize the total amount of pie they get to eat. Assuming both players make their decisions optimally, how much pie will each participant receive?\n",
    "Input size :1<=N<=50\n",
    "\n",
    "example\n",
    "\n",
    "INPUT\n",
    "\n",
    "3\n",
    "\n",
    "141 592 653\n",
    "\n",
    "OUTPUT\n",
    "\n",
    "653 733"
   ]
  },
  {
   "cell_type": "markdown",
   "id": "66d1e3c0",
   "metadata": {},
   "source": [
    "### Solution"
   ]
  },
  {
   "cell_type": "code",
   "execution_count": 1,
   "id": "497bc482",
   "metadata": {},
   "outputs": [
    {
     "name": "stdout",
     "output_type": "stream",
     "text": [
      "3\n",
      "141 592 653\n",
      "653 733\n"
     ]
    }
   ],
   "source": [
    "n=input()\n",
    "a=b=0\n",
    "for i, x in enumerate(list(map(int, input().split()))[::-1]):\n",
    "    if b>a+x:\n",
    "        a+=x\n",
    "    else:\n",
    "        a,b=b,a+x\n",
    "print(a,b) \n"
   ]
  },
  {
   "cell_type": "code",
   "execution_count": null,
   "id": "ff86226d",
   "metadata": {},
   "outputs": [],
   "source": [
    " "
   ]
  }
 ],
 "metadata": {
  "kernelspec": {
   "display_name": "Python 3 (ipykernel)",
   "language": "python",
   "name": "python3"
  },
  "language_info": {
   "codemirror_mode": {
    "name": "ipython",
    "version": 3
   },
   "file_extension": ".py",
   "mimetype": "text/x-python",
   "name": "python",
   "nbconvert_exporter": "python",
   "pygments_lexer": "ipython3",
   "version": "3.10.5"
  }
 },
 "nbformat": 4,
 "nbformat_minor": 5
}
