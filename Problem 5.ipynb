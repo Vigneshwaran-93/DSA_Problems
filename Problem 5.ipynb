{
 "cells": [
  {
   "cell_type": "markdown",
   "id": "c7bcf3b1",
   "metadata": {},
   "source": [
    "### Problem Statement \n",
    "\n",
    "One day Ajit got a strange feeling of jumping from one point to another. The jumping will be done in one-dimension only. He will start from a point 0 and from there he will perform a lot of jumps. He can only jump in a specific sequence:\n",
    "\n",
    "1-jump, 2-jump, 3-jump, 1-jump, 2-jump, 3-jump, 1-jump, and so on.\n",
    "\n",
    "(1->2->3->1->2->3->1.....)\n",
    "\n",
    "1-jump means that if Ajit is at the point x, he will jump to the point x+1.\n",
    "\n",
    "2-jumps mean that if Ajit is at the point x, he will jump to the point x+2.\n",
    "\n",
    "3-jumps mean that if Ajit is at the point x, he will jump to the point x+3.\n",
    "\n",
    "Before the start Ajit asks you: will he arrive at the point a after some number of jumps?\n",
    "\n",
    "Input\n",
    "\n",
    "The first line contains a single integer a denoting the point Ajit asks about.\n",
    "\n",
    "Output\n",
    "\n",
    "Output \"yes\" without quotes if Ajit can arrive at point a or \"no\" without quotes otherwise.\n",
    "\n",
    "Examples\n",
    "\n",
    "Input:\n",
    "\n",
    "0\n",
    "\n",
    "Output:\n",
    "\n",
    "yes"
   ]
  },
  {
   "cell_type": "markdown",
   "id": "63f6fe66",
   "metadata": {},
   "source": [
    "### Solution \n"
   ]
  },
  {
   "cell_type": "code",
   "execution_count": 2,
   "id": "76a0a763",
   "metadata": {},
   "outputs": [
    {
     "name": "stdout",
     "output_type": "stream",
     "text": [
      "0\n",
      "yes\n"
     ]
    }
   ],
   "source": [
    "a = int(input())\n",
    "\n",
    "point = 0\n",
    "\n",
    "# Flag to check if we have reached the point a\n",
    "flag = False\n",
    "\n",
    "while point <= a:\n",
    "    if point == a: \n",
    "        flag = True\n",
    "        break\n",
    "    point += 1 \n",
    "    if point == a: \n",
    "        flag = True\n",
    "        break\n",
    "    point += 2 \n",
    "    if point == a: \n",
    "        flag = True \n",
    "        break\n",
    "    point += 3\n",
    "\n",
    "# Printing output based on flag value\n",
    "if flag:\n",
    "    print(\"yes\")\n",
    "else:\n",
    "    print(\"no\")"
   ]
  },
  {
   "cell_type": "code",
   "execution_count": null,
   "id": "0cddb099",
   "metadata": {},
   "outputs": [],
   "source": []
  }
 ],
 "metadata": {
  "kernelspec": {
   "display_name": "Python 3 (ipykernel)",
   "language": "python",
   "name": "python3"
  },
  "language_info": {
   "codemirror_mode": {
    "name": "ipython",
    "version": 3
   },
   "file_extension": ".py",
   "mimetype": "text/x-python",
   "name": "python",
   "nbconvert_exporter": "python",
   "pygments_lexer": "ipython3",
   "version": "3.10.5"
  }
 },
 "nbformat": 4,
 "nbformat_minor": 5
}
