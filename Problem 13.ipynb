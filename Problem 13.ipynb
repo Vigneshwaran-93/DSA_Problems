{
 "cells": [
  {
   "cell_type": "markdown",
   "id": "3f33ec3b",
   "metadata": {},
   "source": [
    "### Problem Statement \n",
    "Given a list of non negative integers, arrange them in such a manner that they form the largest number possible. The result is going to be very large, hence return the result in the form of a string.\n",
    "\n",
    "Input: The first line of input consists number of the test cases. The description of T test cases is as follows: The first line of each test case contains the size of the array, and the second line has the elements of the array.\n",
    "\n",
    "Output: In each separate line print the largest number formed by arranging the elements of the array in the form of a string.\n",
    "\n",
    "Constraints:\n",
    "\n",
    "1< T < 70\n",
    "\n",
    "1 < N < 100\n",
    "\n",
    "0 < A[i] < 1000\n",
    "\n",
    "Example:\n",
    "\n",
    "Input:\n",
    "\n",
    "2\n",
    "\n",
    "5\n",
    "\n",
    "3 30 34 5 9\n",
    "\n",
    "4\n",
    "\n",
    "54 546 548 60\n",
    "\n",
    "Output:\n",
    "\n",
    "9534330\n",
    "\n",
    "6054854654"
   ]
  },
  {
   "cell_type": "markdown",
   "id": "66d1e3c0",
   "metadata": {},
   "source": [
    "### Solution"
   ]
  },
  {
   "cell_type": "code",
   "execution_count": 1,
   "id": "497bc482",
   "metadata": {},
   "outputs": [
    {
     "name": "stdout",
     "output_type": "stream",
     "text": [
      "2\n",
      "5\n",
      "3 30 34 5 9\n",
      "9534330\n",
      "4\n",
      "54 546 548 60\n",
      "6054854654\n"
     ]
    }
   ],
   "source": [
    "from typing import List\n",
    "def largest_number(arr: List[int]) -> str:\n",
    "    arr=list(map(str,arr))\n",
    "    arr.sort(key=lambda x:x*3, reverse=True)\n",
    "    return ''.join(arr)\n",
    "\n",
    "test_case=int(input())\n",
    "for i in range(test_case):\n",
    "    n=int(input())\n",
    "    arr=list(map(int, input().split()))\n",
    "    print(largest_number(arr))"
   ]
  },
  {
   "cell_type": "code",
   "execution_count": null,
   "id": "ff86226d",
   "metadata": {},
   "outputs": [],
   "source": [
    " "
   ]
  }
 ],
 "metadata": {
  "kernelspec": {
   "display_name": "Python 3 (ipykernel)",
   "language": "python",
   "name": "python3"
  },
  "language_info": {
   "codemirror_mode": {
    "name": "ipython",
    "version": 3
   },
   "file_extension": ".py",
   "mimetype": "text/x-python",
   "name": "python",
   "nbconvert_exporter": "python",
   "pygments_lexer": "ipython3",
   "version": "3.10.5"
  }
 },
 "nbformat": 4,
 "nbformat_minor": 5
}
