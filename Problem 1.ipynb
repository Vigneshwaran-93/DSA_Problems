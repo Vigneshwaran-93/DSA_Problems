{
 "cells": [
  {
   "cell_type": "markdown",
   "id": "3f33ec3b",
   "metadata": {},
   "source": [
    "### Problem Statement \n",
    "Athicavy is very competetive when it comes to exams. In her class, there are N students. Each student got arr[i] (1 <= i <= N) marks in stats exam. Athicavy wanted to solve the questions. But to her surprise, she got different marks every time she solved. There are Q queries, each query represents a number X. For each query, your task is to find the number of students who got marks greater than X.\n",
    "\n",
    "Input:\n",
    "1. The first line of the input contains a single integer T denoting the number of test cases. The description of T test cases follows.\n",
    "2. The first line of each test case contains a single integer represents N\n",
    "3. Next line contains N space-separated integers\n",
    "4. The next line contains a single integer represents Q.\n",
    "5. Next, Q lines contain a single integer X.\n",
    "\n",
    "Output: For each query, print the count of students who got marks greater than X.\n",
    "\n",
    "Constraints:\n",
    "1. 1 <= T <= 5\n",
    "2. 1 <= N, arr[i], X, Q <= 100000\n",
    "\n",
    "Example:\n",
    " - Input:\n",
    " - 1\n",
    " - 3\n",
    " - 4 1 3\n",
    " - 4\n",
    " - 1\n",
    " - 2\n",
    " - 3\n",
    " - 4\n",
    "\n",
    "Output:\n",
    " - 2\n",
    " - 2\n",
    " - 1\n",
    " - 0"
   ]
  },
  {
   "cell_type": "markdown",
   "id": "66d1e3c0",
   "metadata": {},
   "source": [
    "### Solution"
   ]
  },
  {
   "cell_type": "code",
   "execution_count": 4,
   "id": "497bc482",
   "metadata": {},
   "outputs": [
    {
     "name": "stdout",
     "output_type": "stream",
     "text": [
      "1\n",
      "3\n",
      "4 1 3\n",
      "4\n",
      "1\n",
      "2\n",
      "3\n",
      "4\n",
      "Solution\n",
      "2\n",
      "2\n",
      "1\n",
      "0\n"
     ]
    }
   ],
   "source": [
    "no_tests=int(input())\n",
    "ans=[]\n",
    "for i in range(no_tests):\n",
    "    no_of_marks=int(input())\n",
    "    mark_list=list(map(int,input().split()))\n",
    "    no_q=int(input())\n",
    "    for i in range(no_q):\n",
    "        q=int(input())\n",
    "        ct=0\n",
    "        for j in mark_list:\n",
    "            if j>q:\n",
    "                ct+=1\n",
    "        ans.append(ct)\n",
    "print(\"Solution\")\n",
    "for i in ans:\n",
    "    print(i)"
   ]
  },
  {
   "cell_type": "code",
   "execution_count": null,
   "id": "ff86226d",
   "metadata": {},
   "outputs": [],
   "source": []
  }
 ],
 "metadata": {
  "kernelspec": {
   "display_name": "Python 3 (ipykernel)",
   "language": "python",
   "name": "python3"
  },
  "language_info": {
   "codemirror_mode": {
    "name": "ipython",
    "version": 3
   },
   "file_extension": ".py",
   "mimetype": "text/x-python",
   "name": "python",
   "nbconvert_exporter": "python",
   "pygments_lexer": "ipython3",
   "version": "3.10.5"
  }
 },
 "nbformat": 4,
 "nbformat_minor": 5
}
