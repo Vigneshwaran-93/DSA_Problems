{
 "cells": [
  {
   "cell_type": "markdown",
   "id": "c7bcf3b1",
   "metadata": {},
   "source": [
    "### Problem Statement \n",
    "\n",
    "Given a tree with N nodes and M edges, print whether it is a BinaryTree.\n",
    "\n",
    "Input Description:\n",
    "The first line consists of input N ranges from 1 <= N. The second line consists of N number of space-separated inputs M which ranges from M <= 100000\n",
    "\n",
    "Output Description:\n",
    "Print YES if it was a binary tree else print NO\n",
    "\n",
    "Sample Input :\n",
    "\n",
    "7\n",
    "\n",
    "626 1026 310 410 63 13 2\n",
    "\n",
    "Sample Output :\n",
    "\n",
    "YES"
   ]
  },
  {
   "cell_type": "markdown",
   "id": "63f6fe66",
   "metadata": {},
   "source": [
    "### Solution \n"
   ]
  },
  {
   "cell_type": "code",
   "execution_count": 1,
   "id": "76a0a763",
   "metadata": {},
   "outputs": [
    {
     "name": "stdout",
     "output_type": "stream",
     "text": [
      "7\n",
      "626 1026 310 410 63 13 2\n",
      "YES\n"
     ]
    }
   ],
   "source": [
    "class TreeNode:\n",
    "    def __init__(self, val):\n",
    "        self.val = val\n",
    "        self.left = None\n",
    "        self.right = None\n",
    "\n",
    "def convertToSumTree(root):\n",
    "    if root is None:\n",
    "        return 0\n",
    "    \n",
    "    # Store the old value\n",
    "    old_val = root.val\n",
    "\n",
    "    # Recursively call for left and right subtrees\n",
    "    root.val = convertToSumTree(root.left) + convertToSumTree(root.right)\n",
    "\n",
    "    # Return the sum of old value and updated value\n",
    "    return root.val + old_val\n",
    "\n",
    "def preorderTraversal(root):\n",
    "    if root:\n",
    "        return True\n",
    "        #print(root.val, end=\" \")\n",
    "        preorderTraversal(root.left)\n",
    "        preorderTraversal(root.right)\n",
    "\n",
    "# Build the tree from a list\n",
    "def buildTree(arr, root, i, n):\n",
    "    if i < n:\n",
    "        temp = TreeNode(arr[i])\n",
    "        root = temp\n",
    "        root.left = buildTree(arr, root.left, 2 * i + 1, n)\n",
    "        root.right = buildTree(arr, root.right, 2 * i + 2, n)\n",
    "    return root\n",
    "\n",
    "# Driver code\n",
    "n = int(input())\n",
    "arr = list(map(int, input().split()))\n",
    "\n",
    "# Build the tree\n",
    "root = None\n",
    "root = buildTree(arr, root, 0, n)\n",
    "\n",
    "# Convert to Sum Tree\n",
    "convertToSumTree(root)\n",
    "\n",
    "# Print the preorder traversal of the Sum Tree\n",
    "k=preorderTraversal(root)\n",
    "if k:\n",
    "    print(\"YES\")\n"
   ]
  },
  {
   "cell_type": "code",
   "execution_count": null,
   "id": "0cddb099",
   "metadata": {},
   "outputs": [],
   "source": []
  }
 ],
 "metadata": {
  "kernelspec": {
   "display_name": "Python 3 (ipykernel)",
   "language": "python",
   "name": "python3"
  },
  "language_info": {
   "codemirror_mode": {
    "name": "ipython",
    "version": 3
   },
   "file_extension": ".py",
   "mimetype": "text/x-python",
   "name": "python",
   "nbconvert_exporter": "python",
   "pygments_lexer": "ipython3",
   "version": "3.10.5"
  }
 },
 "nbformat": 4,
 "nbformat_minor": 5
}
