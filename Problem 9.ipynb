{
 "cells": [
  {
   "cell_type": "markdown",
   "id": "c7bcf3b1",
   "metadata": {},
   "source": [
    "### Problem Statement \n",
    "\n",
    "A sequence of n > 0 integers is called a jolly jumper if the absolute values of the differences between successive elements take on all possible values 1 through n−1. For instance, 1 4 2 3 is a jolly jumper, because the absolute differences are 3, 2, and 1, respectively.\n",
    "\n",
    "The definition implies that any sequence of a single integer is a jolly jumper.Write a program to determine whether each of a number of sequences is a jolly jumper.\n",
    "\n",
    "Input Description:\n",
    "\n",
    "Each line of input contains an integer n < 3, 000 followed by n integers representing the sequence.\n",
    "\n",
    "Output Description:\n",
    "\n",
    "For each line of input generate a line of output saying “Jolly” or “Not jolly”.\n",
    "\n",
    "Sample Input :\n",
    "\n",
    "4 1 4 2 3\n",
    "Sample Output :\n",
    "\n",
    "Jolly"
   ]
  },
  {
   "cell_type": "markdown",
   "id": "63f6fe66",
   "metadata": {},
   "source": [
    "### Solution \n"
   ]
  },
  {
   "cell_type": "code",
   "execution_count": 4,
   "id": "76a0a763",
   "metadata": {},
   "outputs": [
    {
     "name": "stdout",
     "output_type": "stream",
     "text": [
      "4 1 4 2 3\n",
      "Jolly\n"
     ]
    }
   ],
   "source": [
    "import sys\n",
    "\n",
    "seq = list(map(int, input().split()))\n",
    "n = seq[0]\n",
    "diffs = set()\n",
    "for i in range(2, n + 1):\n",
    "    diffs.add(abs(seq[i] - seq[i - 1]))\n",
    "if len(diffs) == n - 1 and all(diff in diffs for diff in range(1, n)):\n",
    "    print(\"Jolly\")\n",
    "else:\n",
    "    print(\"Not jolly\")  "
   ]
  },
  {
   "cell_type": "code",
   "execution_count": null,
   "id": "0cddb099",
   "metadata": {},
   "outputs": [],
   "source": []
  }
 ],
 "metadata": {
  "kernelspec": {
   "display_name": "Python 3 (ipykernel)",
   "language": "python",
   "name": "python3"
  },
  "language_info": {
   "codemirror_mode": {
    "name": "ipython",
    "version": 3
   },
   "file_extension": ".py",
   "mimetype": "text/x-python",
   "name": "python",
   "nbconvert_exporter": "python",
   "pygments_lexer": "ipython3",
   "version": "3.10.5"
  }
 },
 "nbformat": 4,
 "nbformat_minor": 5
}
